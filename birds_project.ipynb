{
  "nbformat": 4,
  "nbformat_minor": 0,
  "metadata": {
    "colab": {
      "provenance": []
    },
    "kernelspec": {
      "name": "python3",
      "display_name": "Python 3"
    },
    "language_info": {
      "name": "python"
    },
    "accelerator": "GPU",
    "gpuClass": "standard"
  },
  "cells": [
    {
      "cell_type": "code",
      "execution_count": 1,
      "metadata": {
        "id": "xpuKV4HDPsxJ"
      },
      "outputs": [],
      "source": [
        "import pandas as pd\n",
        "import matplotlib.pyplot as plt\n",
        "import numpy as np\n",
        "import sklearn"
      ]
    },
    {
      "cell_type": "code",
      "source": [
        "from google.colab import drive\n",
        "drive.mount('/content/drive')"
      ],
      "metadata": {
        "colab": {
          "base_uri": "https://localhost:8080/"
        },
        "id": "K5orBm7llO-D",
        "outputId": "c36ac718-a76c-4756-8b0a-fa6d3780a8a9"
      },
      "execution_count": 2,
      "outputs": [
        {
          "output_type": "stream",
          "name": "stdout",
          "text": [
            "Mounted at /content/drive\n"
          ]
        }
      ]
    },
    {
      "cell_type": "code",
      "source": [
        "df = pd.read_csv('/content/drive/MyDrive/birds_project/birds1.csv',encoding='unicode_escape')"
      ],
      "metadata": {
        "colab": {
          "base_uri": "https://localhost:8080/"
        },
        "id": "e5eQLRjMP40o",
        "outputId": "8cfc22a9-df92-437d-f55a-28c300c39bfe"
      },
      "execution_count": 3,
      "outputs": [
        {
          "output_type": "stream",
          "name": "stderr",
          "text": [
            "/usr/local/lib/python3.7/dist-packages/IPython/core/interactiveshell.py:3326: DtypeWarning: Columns (25) have mixed types.Specify dtype option on import or set low_memory=False.\n",
            "  exec(code_obj, self.user_global_ns, self.user_ns)\n"
          ]
        }
      ]
    },
    {
      "cell_type": "code",
      "source": [
        "df"
      ],
      "metadata": {
        "colab": {
          "base_uri": "https://localhost:8080/",
          "height": 678
        },
        "id": "1qSJYFwff3JO",
        "outputId": "418b944f-6295-4c6f-e4af-030a65adf206"
      },
      "execution_count": 4,
      "outputs": [
        {
          "output_type": "execute_result",
          "data": {
            "text/plain": [
              "             Avibase.ID       Species1_BirdLife          Species2_eBird  \\\n",
              "0      AVIBASE-B3F5E5E2       Abeillia abeillei       Abeillia abeillei   \n",
              "1      AVIBASE-B3F5E5E2       Abeillia abeillei       Abeillia abeillei   \n",
              "2      AVIBASE-B3F5E5E2       Abeillia abeillei       Abeillia abeillei   \n",
              "3      AVIBASE-B3F5E5E2       Abeillia abeillei       Abeillia abeillei   \n",
              "4      AVIBASE-B3F5E5E2       Abeillia abeillei       Abeillia abeillei   \n",
              "...                 ...                     ...                     ...   \n",
              "90366  AVIBASE-614141B3  Zosterornis whiteheadi  Zosterornis whiteheadi   \n",
              "90367  AVIBASE-614141B3  Zosterornis whiteheadi  Zosterornis whiteheadi   \n",
              "90368  AVIBASE-614141B3  Zosterornis whiteheadi  Zosterornis whiteheadi   \n",
              "90369  AVIBASE-614141B3  Zosterornis whiteheadi  Zosterornis whiteheadi   \n",
              "90370  AVIBASE-614141B3  Zosterornis whiteheadi  Zosterornis whiteheadi   \n",
              "\n",
              "          eBird.species.group     Species3_BirdTree  Data.type Source  \\\n",
              "0           Abeillia abeillei     Abeillia abeillei        1.0  NHMUK   \n",
              "1           Abeillia abeillei     Abeillia abeillei        1.0  NHMUK   \n",
              "2           Abeillia abeillei     Abeillia abeillei        1.0  NHMUK   \n",
              "3           Abeillia abeillei     Abeillia abeillei        1.0  NHMUK   \n",
              "4           Abeillia abeillei     Abeillia abeillei        1.0  NHMUK   \n",
              "...                       ...                   ...        ...    ...   \n",
              "90366  Zosterornis whiteheadi  Stachyris whiteheadi        1.0   UPLB   \n",
              "90367  Zosterornis whiteheadi  Stachyris whiteheadi        1.0  NHMUK   \n",
              "90368  Zosterornis whiteheadi  Stachyris whiteheadi        1.0  NHMUK   \n",
              "90369  Zosterornis whiteheadi  Stachyris whiteheadi        1.0  NHMUK   \n",
              "90370  Zosterornis whiteheadi  Stachyris whiteheadi        1.0  NHMUK   \n",
              "\n",
              "       Specimen.number Sex  Age  ...  Unnamed: 194 Unnamed: 195  Unnamed: 196  \\\n",
              "0            11.4.1890   F  0.0  ...           NaN          NaN           NaN   \n",
              "1           12.23.1890   F  0.0  ...           NaN          NaN           NaN   \n",
              "2        1913.3.20.972   M  0.0  ...           NaN          NaN           NaN   \n",
              "3         87.3.22.1574   M  0.0  ...           NaN          NaN           NaN   \n",
              "4                  NaN   M  0.0  ...           NaN          NaN           NaN   \n",
              "...                ...  ..  ...  ...           ...          ...           ...   \n",
              "90366             3428   F  0.0  ...           NaN          NaN           NaN   \n",
              "90367    24.97.5.13.84   F  0.0  ...           NaN          NaN           NaN   \n",
              "90368  872.97.5.13.265   M  0.0  ...           NaN          NaN           NaN   \n",
              "90369  911.97.5.13.266   F  0.0  ...           NaN          NaN           NaN   \n",
              "90370        96.1.17.7   M  0.0  ...           NaN          NaN           NaN   \n",
              "\n",
              "       Unnamed: 197  Unnamed: 198  Unnamed: 199  Unnamed: 200  Unnamed: 201  \\\n",
              "0               NaN           NaN           NaN           NaN           NaN   \n",
              "1               NaN           NaN           NaN           NaN           NaN   \n",
              "2               NaN           NaN           NaN           NaN           NaN   \n",
              "3               NaN           NaN           NaN           NaN           NaN   \n",
              "4               NaN           NaN           NaN           NaN           NaN   \n",
              "...             ...           ...           ...           ...           ...   \n",
              "90366           NaN           NaN           NaN           NaN           NaN   \n",
              "90367           NaN           NaN           NaN           NaN           NaN   \n",
              "90368           NaN           NaN           NaN           NaN           NaN   \n",
              "90369           NaN           NaN           NaN           NaN           NaN   \n",
              "90370           NaN           NaN           NaN           NaN           NaN   \n",
              "\n",
              "       Unnamed: 202  Unnamed: 203  \n",
              "0               NaN           NaN  \n",
              "1               NaN           NaN  \n",
              "2               NaN           NaN  \n",
              "3               NaN           NaN  \n",
              "4               NaN           NaN  \n",
              "...             ...           ...  \n",
              "90366           NaN           NaN  \n",
              "90367           NaN           NaN  \n",
              "90368           NaN           NaN  \n",
              "90369           NaN           NaN  \n",
              "90370           NaN           NaN  \n",
              "\n",
              "[90371 rows x 204 columns]"
            ],
            "text/html": [
              "\n",
              "  <div id=\"df-9f85104a-2c83-4225-b181-ac7b8be8c4c0\">\n",
              "    <div class=\"colab-df-container\">\n",
              "      <div>\n",
              "<style scoped>\n",
              "    .dataframe tbody tr th:only-of-type {\n",
              "        vertical-align: middle;\n",
              "    }\n",
              "\n",
              "    .dataframe tbody tr th {\n",
              "        vertical-align: top;\n",
              "    }\n",
              "\n",
              "    .dataframe thead th {\n",
              "        text-align: right;\n",
              "    }\n",
              "</style>\n",
              "<table border=\"1\" class=\"dataframe\">\n",
              "  <thead>\n",
              "    <tr style=\"text-align: right;\">\n",
              "      <th></th>\n",
              "      <th>Avibase.ID</th>\n",
              "      <th>Species1_BirdLife</th>\n",
              "      <th>Species2_eBird</th>\n",
              "      <th>eBird.species.group</th>\n",
              "      <th>Species3_BirdTree</th>\n",
              "      <th>Data.type</th>\n",
              "      <th>Source</th>\n",
              "      <th>Specimen.number</th>\n",
              "      <th>Sex</th>\n",
              "      <th>Age</th>\n",
              "      <th>...</th>\n",
              "      <th>Unnamed: 194</th>\n",
              "      <th>Unnamed: 195</th>\n",
              "      <th>Unnamed: 196</th>\n",
              "      <th>Unnamed: 197</th>\n",
              "      <th>Unnamed: 198</th>\n",
              "      <th>Unnamed: 199</th>\n",
              "      <th>Unnamed: 200</th>\n",
              "      <th>Unnamed: 201</th>\n",
              "      <th>Unnamed: 202</th>\n",
              "      <th>Unnamed: 203</th>\n",
              "    </tr>\n",
              "  </thead>\n",
              "  <tbody>\n",
              "    <tr>\n",
              "      <th>0</th>\n",
              "      <td>AVIBASE-B3F5E5E2</td>\n",
              "      <td>Abeillia abeillei</td>\n",
              "      <td>Abeillia abeillei</td>\n",
              "      <td>Abeillia abeillei</td>\n",
              "      <td>Abeillia abeillei</td>\n",
              "      <td>1.0</td>\n",
              "      <td>NHMUK</td>\n",
              "      <td>11.4.1890</td>\n",
              "      <td>F</td>\n",
              "      <td>0.0</td>\n",
              "      <td>...</td>\n",
              "      <td>NaN</td>\n",
              "      <td>NaN</td>\n",
              "      <td>NaN</td>\n",
              "      <td>NaN</td>\n",
              "      <td>NaN</td>\n",
              "      <td>NaN</td>\n",
              "      <td>NaN</td>\n",
              "      <td>NaN</td>\n",
              "      <td>NaN</td>\n",
              "      <td>NaN</td>\n",
              "    </tr>\n",
              "    <tr>\n",
              "      <th>1</th>\n",
              "      <td>AVIBASE-B3F5E5E2</td>\n",
              "      <td>Abeillia abeillei</td>\n",
              "      <td>Abeillia abeillei</td>\n",
              "      <td>Abeillia abeillei</td>\n",
              "      <td>Abeillia abeillei</td>\n",
              "      <td>1.0</td>\n",
              "      <td>NHMUK</td>\n",
              "      <td>12.23.1890</td>\n",
              "      <td>F</td>\n",
              "      <td>0.0</td>\n",
              "      <td>...</td>\n",
              "      <td>NaN</td>\n",
              "      <td>NaN</td>\n",
              "      <td>NaN</td>\n",
              "      <td>NaN</td>\n",
              "      <td>NaN</td>\n",
              "      <td>NaN</td>\n",
              "      <td>NaN</td>\n",
              "      <td>NaN</td>\n",
              "      <td>NaN</td>\n",
              "      <td>NaN</td>\n",
              "    </tr>\n",
              "    <tr>\n",
              "      <th>2</th>\n",
              "      <td>AVIBASE-B3F5E5E2</td>\n",
              "      <td>Abeillia abeillei</td>\n",
              "      <td>Abeillia abeillei</td>\n",
              "      <td>Abeillia abeillei</td>\n",
              "      <td>Abeillia abeillei</td>\n",
              "      <td>1.0</td>\n",
              "      <td>NHMUK</td>\n",
              "      <td>1913.3.20.972</td>\n",
              "      <td>M</td>\n",
              "      <td>0.0</td>\n",
              "      <td>...</td>\n",
              "      <td>NaN</td>\n",
              "      <td>NaN</td>\n",
              "      <td>NaN</td>\n",
              "      <td>NaN</td>\n",
              "      <td>NaN</td>\n",
              "      <td>NaN</td>\n",
              "      <td>NaN</td>\n",
              "      <td>NaN</td>\n",
              "      <td>NaN</td>\n",
              "      <td>NaN</td>\n",
              "    </tr>\n",
              "    <tr>\n",
              "      <th>3</th>\n",
              "      <td>AVIBASE-B3F5E5E2</td>\n",
              "      <td>Abeillia abeillei</td>\n",
              "      <td>Abeillia abeillei</td>\n",
              "      <td>Abeillia abeillei</td>\n",
              "      <td>Abeillia abeillei</td>\n",
              "      <td>1.0</td>\n",
              "      <td>NHMUK</td>\n",
              "      <td>87.3.22.1574</td>\n",
              "      <td>M</td>\n",
              "      <td>0.0</td>\n",
              "      <td>...</td>\n",
              "      <td>NaN</td>\n",
              "      <td>NaN</td>\n",
              "      <td>NaN</td>\n",
              "      <td>NaN</td>\n",
              "      <td>NaN</td>\n",
              "      <td>NaN</td>\n",
              "      <td>NaN</td>\n",
              "      <td>NaN</td>\n",
              "      <td>NaN</td>\n",
              "      <td>NaN</td>\n",
              "    </tr>\n",
              "    <tr>\n",
              "      <th>4</th>\n",
              "      <td>AVIBASE-B3F5E5E2</td>\n",
              "      <td>Abeillia abeillei</td>\n",
              "      <td>Abeillia abeillei</td>\n",
              "      <td>Abeillia abeillei</td>\n",
              "      <td>Abeillia abeillei</td>\n",
              "      <td>1.0</td>\n",
              "      <td>NHMUK</td>\n",
              "      <td>NaN</td>\n",
              "      <td>M</td>\n",
              "      <td>0.0</td>\n",
              "      <td>...</td>\n",
              "      <td>NaN</td>\n",
              "      <td>NaN</td>\n",
              "      <td>NaN</td>\n",
              "      <td>NaN</td>\n",
              "      <td>NaN</td>\n",
              "      <td>NaN</td>\n",
              "      <td>NaN</td>\n",
              "      <td>NaN</td>\n",
              "      <td>NaN</td>\n",
              "      <td>NaN</td>\n",
              "    </tr>\n",
              "    <tr>\n",
              "      <th>...</th>\n",
              "      <td>...</td>\n",
              "      <td>...</td>\n",
              "      <td>...</td>\n",
              "      <td>...</td>\n",
              "      <td>...</td>\n",
              "      <td>...</td>\n",
              "      <td>...</td>\n",
              "      <td>...</td>\n",
              "      <td>...</td>\n",
              "      <td>...</td>\n",
              "      <td>...</td>\n",
              "      <td>...</td>\n",
              "      <td>...</td>\n",
              "      <td>...</td>\n",
              "      <td>...</td>\n",
              "      <td>...</td>\n",
              "      <td>...</td>\n",
              "      <td>...</td>\n",
              "      <td>...</td>\n",
              "      <td>...</td>\n",
              "      <td>...</td>\n",
              "    </tr>\n",
              "    <tr>\n",
              "      <th>90366</th>\n",
              "      <td>AVIBASE-614141B3</td>\n",
              "      <td>Zosterornis whiteheadi</td>\n",
              "      <td>Zosterornis whiteheadi</td>\n",
              "      <td>Zosterornis whiteheadi</td>\n",
              "      <td>Stachyris whiteheadi</td>\n",
              "      <td>1.0</td>\n",
              "      <td>UPLB</td>\n",
              "      <td>3428</td>\n",
              "      <td>F</td>\n",
              "      <td>0.0</td>\n",
              "      <td>...</td>\n",
              "      <td>NaN</td>\n",
              "      <td>NaN</td>\n",
              "      <td>NaN</td>\n",
              "      <td>NaN</td>\n",
              "      <td>NaN</td>\n",
              "      <td>NaN</td>\n",
              "      <td>NaN</td>\n",
              "      <td>NaN</td>\n",
              "      <td>NaN</td>\n",
              "      <td>NaN</td>\n",
              "    </tr>\n",
              "    <tr>\n",
              "      <th>90367</th>\n",
              "      <td>AVIBASE-614141B3</td>\n",
              "      <td>Zosterornis whiteheadi</td>\n",
              "      <td>Zosterornis whiteheadi</td>\n",
              "      <td>Zosterornis whiteheadi</td>\n",
              "      <td>Stachyris whiteheadi</td>\n",
              "      <td>1.0</td>\n",
              "      <td>NHMUK</td>\n",
              "      <td>24.97.5.13.84</td>\n",
              "      <td>F</td>\n",
              "      <td>0.0</td>\n",
              "      <td>...</td>\n",
              "      <td>NaN</td>\n",
              "      <td>NaN</td>\n",
              "      <td>NaN</td>\n",
              "      <td>NaN</td>\n",
              "      <td>NaN</td>\n",
              "      <td>NaN</td>\n",
              "      <td>NaN</td>\n",
              "      <td>NaN</td>\n",
              "      <td>NaN</td>\n",
              "      <td>NaN</td>\n",
              "    </tr>\n",
              "    <tr>\n",
              "      <th>90368</th>\n",
              "      <td>AVIBASE-614141B3</td>\n",
              "      <td>Zosterornis whiteheadi</td>\n",
              "      <td>Zosterornis whiteheadi</td>\n",
              "      <td>Zosterornis whiteheadi</td>\n",
              "      <td>Stachyris whiteheadi</td>\n",
              "      <td>1.0</td>\n",
              "      <td>NHMUK</td>\n",
              "      <td>872.97.5.13.265</td>\n",
              "      <td>M</td>\n",
              "      <td>0.0</td>\n",
              "      <td>...</td>\n",
              "      <td>NaN</td>\n",
              "      <td>NaN</td>\n",
              "      <td>NaN</td>\n",
              "      <td>NaN</td>\n",
              "      <td>NaN</td>\n",
              "      <td>NaN</td>\n",
              "      <td>NaN</td>\n",
              "      <td>NaN</td>\n",
              "      <td>NaN</td>\n",
              "      <td>NaN</td>\n",
              "    </tr>\n",
              "    <tr>\n",
              "      <th>90369</th>\n",
              "      <td>AVIBASE-614141B3</td>\n",
              "      <td>Zosterornis whiteheadi</td>\n",
              "      <td>Zosterornis whiteheadi</td>\n",
              "      <td>Zosterornis whiteheadi</td>\n",
              "      <td>Stachyris whiteheadi</td>\n",
              "      <td>1.0</td>\n",
              "      <td>NHMUK</td>\n",
              "      <td>911.97.5.13.266</td>\n",
              "      <td>F</td>\n",
              "      <td>0.0</td>\n",
              "      <td>...</td>\n",
              "      <td>NaN</td>\n",
              "      <td>NaN</td>\n",
              "      <td>NaN</td>\n",
              "      <td>NaN</td>\n",
              "      <td>NaN</td>\n",
              "      <td>NaN</td>\n",
              "      <td>NaN</td>\n",
              "      <td>NaN</td>\n",
              "      <td>NaN</td>\n",
              "      <td>NaN</td>\n",
              "    </tr>\n",
              "    <tr>\n",
              "      <th>90370</th>\n",
              "      <td>AVIBASE-614141B3</td>\n",
              "      <td>Zosterornis whiteheadi</td>\n",
              "      <td>Zosterornis whiteheadi</td>\n",
              "      <td>Zosterornis whiteheadi</td>\n",
              "      <td>Stachyris whiteheadi</td>\n",
              "      <td>1.0</td>\n",
              "      <td>NHMUK</td>\n",
              "      <td>96.1.17.7</td>\n",
              "      <td>M</td>\n",
              "      <td>0.0</td>\n",
              "      <td>...</td>\n",
              "      <td>NaN</td>\n",
              "      <td>NaN</td>\n",
              "      <td>NaN</td>\n",
              "      <td>NaN</td>\n",
              "      <td>NaN</td>\n",
              "      <td>NaN</td>\n",
              "      <td>NaN</td>\n",
              "      <td>NaN</td>\n",
              "      <td>NaN</td>\n",
              "      <td>NaN</td>\n",
              "    </tr>\n",
              "  </tbody>\n",
              "</table>\n",
              "<p>90371 rows × 204 columns</p>\n",
              "</div>\n",
              "      <button class=\"colab-df-convert\" onclick=\"convertToInteractive('df-9f85104a-2c83-4225-b181-ac7b8be8c4c0')\"\n",
              "              title=\"Convert this dataframe to an interactive table.\"\n",
              "              style=\"display:none;\">\n",
              "        \n",
              "  <svg xmlns=\"http://www.w3.org/2000/svg\" height=\"24px\"viewBox=\"0 0 24 24\"\n",
              "       width=\"24px\">\n",
              "    <path d=\"M0 0h24v24H0V0z\" fill=\"none\"/>\n",
              "    <path d=\"M18.56 5.44l.94 2.06.94-2.06 2.06-.94-2.06-.94-.94-2.06-.94 2.06-2.06.94zm-11 1L8.5 8.5l.94-2.06 2.06-.94-2.06-.94L8.5 2.5l-.94 2.06-2.06.94zm10 10l.94 2.06.94-2.06 2.06-.94-2.06-.94-.94-2.06-.94 2.06-2.06.94z\"/><path d=\"M17.41 7.96l-1.37-1.37c-.4-.4-.92-.59-1.43-.59-.52 0-1.04.2-1.43.59L10.3 9.45l-7.72 7.72c-.78.78-.78 2.05 0 2.83L4 21.41c.39.39.9.59 1.41.59.51 0 1.02-.2 1.41-.59l7.78-7.78 2.81-2.81c.8-.78.8-2.07 0-2.86zM5.41 20L4 18.59l7.72-7.72 1.47 1.35L5.41 20z\"/>\n",
              "  </svg>\n",
              "      </button>\n",
              "      \n",
              "  <style>\n",
              "    .colab-df-container {\n",
              "      display:flex;\n",
              "      flex-wrap:wrap;\n",
              "      gap: 12px;\n",
              "    }\n",
              "\n",
              "    .colab-df-convert {\n",
              "      background-color: #E8F0FE;\n",
              "      border: none;\n",
              "      border-radius: 50%;\n",
              "      cursor: pointer;\n",
              "      display: none;\n",
              "      fill: #1967D2;\n",
              "      height: 32px;\n",
              "      padding: 0 0 0 0;\n",
              "      width: 32px;\n",
              "    }\n",
              "\n",
              "    .colab-df-convert:hover {\n",
              "      background-color: #E2EBFA;\n",
              "      box-shadow: 0px 1px 2px rgba(60, 64, 67, 0.3), 0px 1px 3px 1px rgba(60, 64, 67, 0.15);\n",
              "      fill: #174EA6;\n",
              "    }\n",
              "\n",
              "    [theme=dark] .colab-df-convert {\n",
              "      background-color: #3B4455;\n",
              "      fill: #D2E3FC;\n",
              "    }\n",
              "\n",
              "    [theme=dark] .colab-df-convert:hover {\n",
              "      background-color: #434B5C;\n",
              "      box-shadow: 0px 1px 3px 1px rgba(0, 0, 0, 0.15);\n",
              "      filter: drop-shadow(0px 1px 2px rgba(0, 0, 0, 0.3));\n",
              "      fill: #FFFFFF;\n",
              "    }\n",
              "  </style>\n",
              "\n",
              "      <script>\n",
              "        const buttonEl =\n",
              "          document.querySelector('#df-9f85104a-2c83-4225-b181-ac7b8be8c4c0 button.colab-df-convert');\n",
              "        buttonEl.style.display =\n",
              "          google.colab.kernel.accessAllowed ? 'block' : 'none';\n",
              "\n",
              "        async function convertToInteractive(key) {\n",
              "          const element = document.querySelector('#df-9f85104a-2c83-4225-b181-ac7b8be8c4c0');\n",
              "          const dataTable =\n",
              "            await google.colab.kernel.invokeFunction('convertToInteractive',\n",
              "                                                     [key], {});\n",
              "          if (!dataTable) return;\n",
              "\n",
              "          const docLinkHtml = 'Like what you see? Visit the ' +\n",
              "            '<a target=\"_blank\" href=https://colab.research.google.com/notebooks/data_table.ipynb>data table notebook</a>'\n",
              "            + ' to learn more about interactive tables.';\n",
              "          element.innerHTML = '';\n",
              "          dataTable['output_type'] = 'display_data';\n",
              "          await google.colab.output.renderOutput(dataTable, element);\n",
              "          const docLink = document.createElement('div');\n",
              "          docLink.innerHTML = docLinkHtml;\n",
              "          element.appendChild(docLink);\n",
              "        }\n",
              "      </script>\n",
              "    </div>\n",
              "  </div>\n",
              "  "
            ]
          },
          "metadata": {},
          "execution_count": 4
        }
      ]
    },
    {
      "cell_type": "code",
      "source": [
        "# df = pd.DataFrame(data)"
      ],
      "metadata": {
        "id": "Lu3RFrwyQ4YJ"
      },
      "execution_count": 5,
      "outputs": []
    },
    {
      "cell_type": "code",
      "source": [
        "df.info()"
      ],
      "metadata": {
        "colab": {
          "base_uri": "https://localhost:8080/"
        },
        "id": "9Mity4wAP43E",
        "outputId": "cb551d41-4c41-45f9-cd98-5609ab24dc4f"
      },
      "execution_count": 6,
      "outputs": [
        {
          "output_type": "stream",
          "name": "stdout",
          "text": [
            "<class 'pandas.core.frame.DataFrame'>\n",
            "RangeIndex: 90371 entries, 0 to 90370\n",
            "Columns: 204 entries, Avibase.ID to Unnamed: 203\n",
            "dtypes: float64(193), object(11)\n",
            "memory usage: 140.7+ MB\n"
          ]
        }
      ]
    },
    {
      "cell_type": "code",
      "source": [
        "df.isna().sum()"
      ],
      "metadata": {
        "colab": {
          "base_uri": "https://localhost:8080/"
        },
        "id": "HB-BWF5tRmn0",
        "outputId": "e18c6a80-12b7-43d0-e83b-6378b4540b64"
      },
      "execution_count": 7,
      "outputs": [
        {
          "output_type": "execute_result",
          "data": {
            "text/plain": [
              "Avibase.ID                 1\n",
              "Species1_BirdLife        338\n",
              "Species2_eBird           366\n",
              "eBird.species.group      182\n",
              "Species3_BirdTree         68\n",
              "                       ...  \n",
              "Unnamed: 199           90371\n",
              "Unnamed: 200           90371\n",
              "Unnamed: 201           90371\n",
              "Unnamed: 202           90371\n",
              "Unnamed: 203           90371\n",
              "Length: 204, dtype: int64"
            ]
          },
          "metadata": {},
          "execution_count": 7
        }
      ]
    },
    {
      "cell_type": "code",
      "source": [
        "# df[['Measurer']].value_counts()"
      ],
      "metadata": {
        "id": "yHcFWyqAeCxV"
      },
      "execution_count": 8,
      "outputs": []
    },
    {
      "cell_type": "code",
      "source": [
        "df = df.drop(df.columns[25:204], axis=1)\n",
        "df = df.drop(['Country'],axis=1)\n",
        "df = df.drop(['Locality'],axis=1)"
      ],
      "metadata": {
        "id": "hHOq8bC7P46g"
      },
      "execution_count": 9,
      "outputs": []
    },
    {
      "cell_type": "code",
      "source": [
        "df.columns"
      ],
      "metadata": {
        "colab": {
          "base_uri": "https://localhost:8080/"
        },
        "id": "ZSiuvlJUVKlz",
        "outputId": "d1fe378c-e2be-4830-d5c6-d8692bb10f91"
      },
      "execution_count": 10,
      "outputs": [
        {
          "output_type": "execute_result",
          "data": {
            "text/plain": [
              "Index(['Avibase.ID', 'Species1_BirdLife', 'Species2_eBird',\n",
              "       'eBird.species.group', 'Species3_BirdTree', 'Data.type', 'Source',\n",
              "       'Specimen.number', 'Sex', 'Age', 'Country_WRI', 'Beak.Length_Culmen',\n",
              "       'Beak.Length_Nares', 'Beak.Width', 'Beak.Depth', 'Tarsus.Length',\n",
              "       'Wing.Length', 'Kipps.Distance', 'Secondary1', 'Hand-wing.Index',\n",
              "       'Tail.Length', 'Measurer', 'Protocol'],\n",
              "      dtype='object')"
            ]
          },
          "metadata": {},
          "execution_count": 10
        }
      ]
    },
    {
      "cell_type": "code",
      "source": [
        "# df = df.values.reshape(-1, 1)"
      ],
      "metadata": {
        "id": "2nFu7ZYtYyYv"
      },
      "execution_count": 11,
      "outputs": []
    },
    {
      "cell_type": "code",
      "source": [
        "from sklearn.impute import SimpleImputer\n",
        "\n",
        "imputer = SimpleImputer(strategy='most_frequent', missing_values=np.nan)\n",
        "df[['Avibase.ID', 'Species1_BirdLife', 'Species2_eBird',\n",
        "       'eBird.species.group', 'Species3_BirdTree', 'Data.type', 'Source',\n",
        "       'Specimen.number', 'Sex', 'Age', 'Country_WRI', 'Beak.Length_Culmen',\n",
        "       'Beak.Length_Nares', 'Beak.Width', 'Beak.Depth', 'Tarsus.Length',\n",
        "       'Wing.Length', 'Kipps.Distance', 'Secondary1', 'Hand-wing.Index',\n",
        "       'Tail.Length', 'Measurer', 'Protocol']] = imputer.fit_transform(df[['Avibase.ID', 'Species1_BirdLife', 'Species2_eBird',\n",
        "       'eBird.species.group', 'Species3_BirdTree', 'Data.type', 'Source',\n",
        "       'Specimen.number', 'Sex', 'Age', 'Country_WRI', 'Beak.Length_Culmen',\n",
        "       'Beak.Length_Nares', 'Beak.Width', 'Beak.Depth', 'Tarsus.Length',\n",
        "       'Wing.Length', 'Kipps.Distance', 'Secondary1', 'Hand-wing.Index',\n",
        "       'Tail.Length', 'Measurer', 'Protocol']])"
      ],
      "metadata": {
        "id": "Du0p_ZhraMEr"
      },
      "execution_count": 12,
      "outputs": []
    },
    {
      "cell_type": "code",
      "source": [
        "from sklearn.preprocessing import LabelEncoder\n",
        "le = LabelEncoder()\n",
        "\n",
        "df = df.apply(LabelEncoder().fit_transform)"
      ],
      "metadata": {
        "id": "71zT0epbjtgJ"
      },
      "execution_count": 13,
      "outputs": []
    },
    {
      "cell_type": "code",
      "source": [
        "# from sklearn.preprocessing import StandardScaler\n",
        "# sc = StandardScaler()\n",
        "# df = sc.fit_transform(df)"
      ],
      "metadata": {
        "id": "pWQxz0bGc6uO"
      },
      "execution_count": 14,
      "outputs": []
    },
    {
      "cell_type": "code",
      "source": [
        "# df=np.array(df)"
      ],
      "metadata": {
        "id": "T3p7-0XIhRLS"
      },
      "execution_count": 15,
      "outputs": []
    },
    {
      "cell_type": "code",
      "source": [
        "X = df[['Avibase.ID', 'Species1_BirdLife', 'Species2_eBird',\n",
        "       'Species3_BirdTree', 'Data.type', 'Source',\n",
        "       'Specimen.number', 'Sex', 'Age', 'Country_WRI', 'Beak.Length_Culmen',\n",
        "       'Beak.Length_Nares', 'Beak.Width', 'Beak.Depth', 'Tarsus.Length',\n",
        "       'Wing.Length', 'Kipps.Distance', 'Secondary1', 'Hand-wing.Index', \n",
        "        'Tail.Length', 'Measurer', 'Protocol']]\n",
        "y = df[['eBird.species.group']]"
      ],
      "metadata": {
        "id": "S8EnQBd8du4U"
      },
      "execution_count": 16,
      "outputs": []
    },
    {
      "cell_type": "code",
      "source": [
        "from sklearn.model_selection import train_test_split\n",
        "X_train,X_test,y_train,y_test = train_test_split(X,y,test_size=0.40,random_state=0)"
      ],
      "metadata": {
        "id": "JAYo93hEdaI1"
      },
      "execution_count": 17,
      "outputs": []
    },
    {
      "cell_type": "code",
      "source": [
        "from sklearn.linear_model import LogisticRegression\n",
        "lr = LogisticRegression()\n",
        "lr.fit(X_train,y_train)"
      ],
      "metadata": {
        "colab": {
          "base_uri": "https://localhost:8080/"
        },
        "id": "B5BfUTdLjZDQ",
        "outputId": "ab232787-fc12-4d72-eccb-b405c10142da"
      },
      "execution_count": null,
      "outputs": [
        {
          "output_type": "stream",
          "name": "stderr",
          "text": [
            "/usr/local/lib/python3.7/dist-packages/sklearn/utils/validation.py:993: DataConversionWarning: A column-vector y was passed when a 1d array was expected. Please change the shape of y to (n_samples, ), for example using ravel().\n",
            "  y = column_or_1d(y, warn=True)\n"
          ]
        }
      ]
    },
    {
      "cell_type": "code",
      "source": [
        "y_pred = lr.predict(X_test)\n",
        "# y_pred\n",
        "print(\"Accuracy:\",metrics.accuracy_score(y_test,y_pred))"
      ],
      "metadata": {
        "id": "iBuy_NDDjY_q"
      },
      "execution_count": null,
      "outputs": []
    }
  ]
}