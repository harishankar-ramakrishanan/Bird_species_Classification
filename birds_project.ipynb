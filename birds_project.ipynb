{
  "nbformat": 4,
  "nbformat_minor": 0,
  "metadata": {
    "colab": {
      "provenance": []
    },
    "kernelspec": {
      "name": "python3",
      "display_name": "Python 3"
    },
    "language_info": {
      "name": "python"
    },
    "accelerator": "GPU",
    "gpuClass": "standard"
  },
  "cells": [
    {
      "cell_type": "code",
      "execution_count": null,
      "metadata": {
        "id": "xpuKV4HDPsxJ"
      },
      "outputs": [],
      "source": [
        "import pandas as pd\n",
        "import matplotlib.pyplot as plt\n",
        "import numpy as np\n",
        "import sklearn\n",
        "import sklearn.metrics as metrics  "
      ]
    },
    {
      "cell_type": "code",
      "source": [
        "from google.colab import drive\n",
        "drive.mount('/content/drive')"
      ],
      "metadata": {
        "colab": {
          "base_uri": "https://localhost:8080/"
        },
        "id": "K5orBm7llO-D",
        "outputId": "52da00f3-a963-4697-fe81-4b216ef68cc3"
      },
      "execution_count": null,
      "outputs": [
        {
          "output_type": "stream",
          "name": "stdout",
          "text": [
            "Mounted at /content/drive\n"
          ]
        }
      ]
    },
    {
      "cell_type": "code",
      "source": [
        "df = pd.read_csv('/content/drive/MyDrive/birds_project/birds1.csv',encoding='unicode_escape')\n",
        "df = df.head(30000)"
      ],
      "metadata": {
        "id": "e5eQLRjMP40o",
        "colab": {
          "base_uri": "https://localhost:8080/"
        },
        "outputId": "9bf04037-ed49-40e0-c5f0-75bae07e4d99"
      },
      "execution_count": null,
      "outputs": [
        {
          "output_type": "stream",
          "name": "stderr",
          "text": [
            "/usr/local/lib/python3.7/dist-packages/IPython/core/interactiveshell.py:3326: DtypeWarning: Columns (25) have mixed types.Specify dtype option on import or set low_memory=False.\n",
            "  exec(code_obj, self.user_global_ns, self.user_ns)\n"
          ]
        }
      ]
    },
    {
      "cell_type": "code",
      "source": [
        "df.isna().sum()"
      ],
      "metadata": {
        "colab": {
          "base_uri": "https://localhost:8080/"
        },
        "id": "HB-BWF5tRmn0",
        "outputId": "56ea7044-881f-42e4-cefa-0264382100be"
      },
      "execution_count": null,
      "outputs": [
        {
          "output_type": "execute_result",
          "data": {
            "text/plain": [
              "Avibase.ID                 0\n",
              "Species1_BirdLife          0\n",
              "Species2_eBird           116\n",
              "eBird.species.group        0\n",
              "Species3_BirdTree         15\n",
              "                       ...  \n",
              "Unnamed: 199           30000\n",
              "Unnamed: 200           30000\n",
              "Unnamed: 201           30000\n",
              "Unnamed: 202           30000\n",
              "Unnamed: 203           30000\n",
              "Length: 204, dtype: int64"
            ]
          },
          "metadata": {},
          "execution_count": 4
        }
      ]
    },
    {
      "cell_type": "code",
      "source": [
        "df = df.drop(df.columns[25:204], axis=1)\n",
        "df = df.drop(['Country'],axis=1)\n",
        "df = df.drop(['Locality'],axis=1)"
      ],
      "metadata": {
        "id": "hHOq8bC7P46g"
      },
      "execution_count": null,
      "outputs": []
    },
    {
      "cell_type": "code",
      "source": [
        "df.columns"
      ],
      "metadata": {
        "colab": {
          "base_uri": "https://localhost:8080/"
        },
        "id": "ZSiuvlJUVKlz",
        "outputId": "046d2aaf-a005-42cd-bcfb-c7ed139356e2"
      },
      "execution_count": null,
      "outputs": [
        {
          "output_type": "execute_result",
          "data": {
            "text/plain": [
              "Index(['Avibase.ID', 'Species1_BirdLife', 'Species2_eBird',\n",
              "       'eBird.species.group', 'Species3_BirdTree', 'Data.type', 'Source',\n",
              "       'Specimen.number', 'Sex', 'Age', 'Country_WRI', 'Beak.Length_Culmen',\n",
              "       'Beak.Length_Nares', 'Beak.Width', 'Beak.Depth', 'Tarsus.Length',\n",
              "       'Wing.Length', 'Kipps.Distance', 'Secondary1', 'Hand-wing.Index',\n",
              "       'Tail.Length', 'Measurer', 'Protocol'],\n",
              "      dtype='object')"
            ]
          },
          "metadata": {},
          "execution_count": 6
        }
      ]
    },
    {
      "cell_type": "code",
      "source": [
        "# df = df.values.reshape(-1, 1)"
      ],
      "metadata": {
        "id": "2nFu7ZYtYyYv"
      },
      "execution_count": null,
      "outputs": []
    },
    {
      "cell_type": "code",
      "source": [
        "from sklearn.impute import SimpleImputer\n",
        "\n",
        "imputer = SimpleImputer(strategy='most_frequent', missing_values=np.nan)\n",
        "df[['Avibase.ID', 'Species1_BirdLife', 'Species2_eBird',\n",
        "       'eBird.species.group', 'Species3_BirdTree', 'Data.type', 'Source',\n",
        "       'Specimen.number', 'Sex', 'Age', 'Country_WRI', 'Beak.Length_Culmen',\n",
        "       'Beak.Length_Nares', 'Beak.Width', 'Beak.Depth', 'Tarsus.Length',\n",
        "       'Wing.Length', 'Kipps.Distance', 'Secondary1', 'Hand-wing.Index',\n",
        "       'Tail.Length', 'Measurer', 'Protocol']] = imputer.fit_transform(df[['Avibase.ID', 'Species1_BirdLife', 'Species2_eBird',\n",
        "       'eBird.species.group', 'Species3_BirdTree', 'Data.type', 'Source',\n",
        "       'Specimen.number', 'Sex', 'Age', 'Country_WRI', 'Beak.Length_Culmen',\n",
        "       'Beak.Length_Nares', 'Beak.Width', 'Beak.Depth', 'Tarsus.Length',\n",
        "       'Wing.Length', 'Kipps.Distance', 'Secondary1', 'Hand-wing.Index',\n",
        "       'Tail.Length', 'Measurer', 'Protocol']])"
      ],
      "metadata": {
        "id": "Du0p_ZhraMEr"
      },
      "execution_count": null,
      "outputs": []
    },
    {
      "cell_type": "code",
      "source": [
        "df.isna().sum()"
      ],
      "metadata": {
        "colab": {
          "base_uri": "https://localhost:8080/"
        },
        "id": "3MRP0C3bxogw",
        "outputId": "84a5a7a6-f5f6-46f5-a42b-869932e76f34"
      },
      "execution_count": null,
      "outputs": [
        {
          "output_type": "execute_result",
          "data": {
            "text/plain": [
              "Avibase.ID             0\n",
              "Species1_BirdLife      0\n",
              "Species2_eBird         0\n",
              "eBird.species.group    0\n",
              "Species3_BirdTree      0\n",
              "Data.type              0\n",
              "Source                 0\n",
              "Specimen.number        0\n",
              "Sex                    0\n",
              "Age                    0\n",
              "Country_WRI            0\n",
              "Beak.Length_Culmen     0\n",
              "Beak.Length_Nares      0\n",
              "Beak.Width             0\n",
              "Beak.Depth             0\n",
              "Tarsus.Length          0\n",
              "Wing.Length            0\n",
              "Kipps.Distance         0\n",
              "Secondary1             0\n",
              "Hand-wing.Index        0\n",
              "Tail.Length            0\n",
              "Measurer               0\n",
              "Protocol               0\n",
              "dtype: int64"
            ]
          },
          "metadata": {},
          "execution_count": 9
        }
      ]
    },
    {
      "cell_type": "code",
      "source": [
        "arr1=df['eBird.species.group'].unique()"
      ],
      "metadata": {
        "id": "c4o6NJZYmqsd"
      },
      "execution_count": null,
      "outputs": []
    },
    {
      "cell_type": "code",
      "source": [
        "df['eBird.species.group'].value_counts()"
      ],
      "metadata": {
        "colab": {
          "base_uri": "https://localhost:8080/"
        },
        "id": "Do15TY7Dn-WV",
        "outputId": "608d248d-0039-4255-d2e4-5fe7389bafed"
      },
      "execution_count": null,
      "outputs": [
        {
          "output_type": "execute_result",
          "data": {
            "text/plain": [
              "Cyanomitra olivacea                373\n",
              "Cinnyris jugularis                 338\n",
              "Alethe diademata                   321\n",
              "Bleda notatus notatus              219\n",
              "Chamaetylas poliocephala           177\n",
              "                                  ... \n",
              "Calliope tschebaiewi                 1\n",
              "Cinnyris notatus voeltzkowi          1\n",
              "Diomedea exulans amsterdamensis      1\n",
              "Alophoixus ruficrissus               1\n",
              "Anas nesiotis                        1\n",
              "Name: eBird.species.group, Length: 3670, dtype: int64"
            ]
          },
          "metadata": {},
          "execution_count": 11
        }
      ]
    },
    {
      "cell_type": "code",
      "source": [
        "len(arr1)"
      ],
      "metadata": {
        "colab": {
          "base_uri": "https://localhost:8080/"
        },
        "id": "EX3Tbw9pnklz",
        "outputId": "fcb03562-4802-4614-99a0-6acd951602fb"
      },
      "execution_count": null,
      "outputs": [
        {
          "output_type": "execute_result",
          "data": {
            "text/plain": [
              "3670"
            ]
          },
          "metadata": {},
          "execution_count": 12
        }
      ]
    },
    {
      "cell_type": "code",
      "source": [
        "len(df)"
      ],
      "metadata": {
        "colab": {
          "base_uri": "https://localhost:8080/"
        },
        "id": "kFds9XvvnUVR",
        "outputId": "aae4d8c3-e622-45d8-ff15-982913bb682f"
      },
      "execution_count": null,
      "outputs": [
        {
          "output_type": "execute_result",
          "data": {
            "text/plain": [
              "30000"
            ]
          },
          "metadata": {},
          "execution_count": 13
        }
      ]
    },
    {
      "cell_type": "code",
      "source": [
        "from sklearn.preprocessing import LabelEncoder\n",
        "le = LabelEncoder()\n",
        "\n",
        "df = df.apply(LabelEncoder().fit_transform)"
      ],
      "metadata": {
        "id": "71zT0epbjtgJ"
      },
      "execution_count": null,
      "outputs": []
    },
    {
      "cell_type": "code",
      "source": [
        "df"
      ],
      "metadata": {
        "colab": {
          "base_uri": "https://localhost:8080/",
          "height": 505
        },
        "id": "IEexUqDL1cXB",
        "outputId": "18c08314-094f-4839-dbde-c37afe972b42"
      },
      "execution_count": null,
      "outputs": [
        {
          "output_type": "execute_result",
          "data": {
            "text/plain": [
              "       Avibase.ID  Species1_BirdLife  Species2_eBird  eBird.species.group  \\\n",
              "0            2523                  0               0                    0   \n",
              "1            2523                  0               0                    0   \n",
              "2            2523                  0               0                    0   \n",
              "3            2523                  0               0                    0   \n",
              "4            2523                  0               0                    0   \n",
              "...           ...                ...             ...                  ...   \n",
              "29995        1965               3620            3335                 3552   \n",
              "29996        1965               3620            3335                 3552   \n",
              "29997        1965               3620            3335                 3552   \n",
              "29998        1965               3620            3335                 3552   \n",
              "29999        1965               3620            3335                 3552   \n",
              "\n",
              "       Species3_BirdTree  Data.type  Source  Specimen.number  Sex  Age  ...  \\\n",
              "0                      0          0      40              334    0    0  ...   \n",
              "1                      0          0      40              514    0    0  ...   \n",
              "2                      0          0      40             5076    1    0  ...   \n",
              "3                      0          0      40            19869    1    0  ...   \n",
              "4                      0          0      40            23703    1    0  ...   \n",
              "...                  ...        ...     ...              ...  ...  ...  ...   \n",
              "29995               2914          0      40             6386    1    0  ...   \n",
              "29996               2914          0      40             7708    1    0  ...   \n",
              "29997               2914          0      40             9815    1    0  ...   \n",
              "29998               2914          0      40            18778    1    0  ...   \n",
              "29999               2914          0      40            23048    1    0  ...   \n",
              "\n",
              "       Beak.Width  Beak.Depth  Tarsus.Length  Wing.Length  Kipps.Distance  \\\n",
              "0               5          11             50           73             283   \n",
              "1               3           6             59           73             293   \n",
              "2               3           9             51           90             293   \n",
              "3               3           8             24           90             283   \n",
              "4              10           5             28          130              83   \n",
              "...           ...         ...            ...          ...             ...   \n",
              "29995          52          57            144          396             165   \n",
              "29996          55          62            150          366             153   \n",
              "29997          57          63            154          396             158   \n",
              "29998          53          61            149          396             170   \n",
              "29999          55          60            141          366             181   \n",
              "\n",
              "       Secondary1  Hand-wing.Index  Tail.Length  Measurer  Protocol  \n",
              "0              47              646           63       101         1  \n",
              "1              38              668           92       101         1  \n",
              "2              57              639           82       101         1  \n",
              "3              67              617           92       101         1  \n",
              "4             393              179          102        52         0  \n",
              "...           ...              ...          ...       ...       ...  \n",
              "29995         491              212          263       111         1  \n",
              "29996         473              206          225       111         1  \n",
              "29997         498              203          254       111         1  \n",
              "29998         486              219          235       111         1  \n",
              "29999         445              243          188       111         1  \n",
              "\n",
              "[30000 rows x 23 columns]"
            ],
            "text/html": [
              "\n",
              "  <div id=\"df-b18422ca-f208-46a4-a60f-455003674566\">\n",
              "    <div class=\"colab-df-container\">\n",
              "      <div>\n",
              "<style scoped>\n",
              "    .dataframe tbody tr th:only-of-type {\n",
              "        vertical-align: middle;\n",
              "    }\n",
              "\n",
              "    .dataframe tbody tr th {\n",
              "        vertical-align: top;\n",
              "    }\n",
              "\n",
              "    .dataframe thead th {\n",
              "        text-align: right;\n",
              "    }\n",
              "</style>\n",
              "<table border=\"1\" class=\"dataframe\">\n",
              "  <thead>\n",
              "    <tr style=\"text-align: right;\">\n",
              "      <th></th>\n",
              "      <th>Avibase.ID</th>\n",
              "      <th>Species1_BirdLife</th>\n",
              "      <th>Species2_eBird</th>\n",
              "      <th>eBird.species.group</th>\n",
              "      <th>Species3_BirdTree</th>\n",
              "      <th>Data.type</th>\n",
              "      <th>Source</th>\n",
              "      <th>Specimen.number</th>\n",
              "      <th>Sex</th>\n",
              "      <th>Age</th>\n",
              "      <th>...</th>\n",
              "      <th>Beak.Width</th>\n",
              "      <th>Beak.Depth</th>\n",
              "      <th>Tarsus.Length</th>\n",
              "      <th>Wing.Length</th>\n",
              "      <th>Kipps.Distance</th>\n",
              "      <th>Secondary1</th>\n",
              "      <th>Hand-wing.Index</th>\n",
              "      <th>Tail.Length</th>\n",
              "      <th>Measurer</th>\n",
              "      <th>Protocol</th>\n",
              "    </tr>\n",
              "  </thead>\n",
              "  <tbody>\n",
              "    <tr>\n",
              "      <th>0</th>\n",
              "      <td>2523</td>\n",
              "      <td>0</td>\n",
              "      <td>0</td>\n",
              "      <td>0</td>\n",
              "      <td>0</td>\n",
              "      <td>0</td>\n",
              "      <td>40</td>\n",
              "      <td>334</td>\n",
              "      <td>0</td>\n",
              "      <td>0</td>\n",
              "      <td>...</td>\n",
              "      <td>5</td>\n",
              "      <td>11</td>\n",
              "      <td>50</td>\n",
              "      <td>73</td>\n",
              "      <td>283</td>\n",
              "      <td>47</td>\n",
              "      <td>646</td>\n",
              "      <td>63</td>\n",
              "      <td>101</td>\n",
              "      <td>1</td>\n",
              "    </tr>\n",
              "    <tr>\n",
              "      <th>1</th>\n",
              "      <td>2523</td>\n",
              "      <td>0</td>\n",
              "      <td>0</td>\n",
              "      <td>0</td>\n",
              "      <td>0</td>\n",
              "      <td>0</td>\n",
              "      <td>40</td>\n",
              "      <td>514</td>\n",
              "      <td>0</td>\n",
              "      <td>0</td>\n",
              "      <td>...</td>\n",
              "      <td>3</td>\n",
              "      <td>6</td>\n",
              "      <td>59</td>\n",
              "      <td>73</td>\n",
              "      <td>293</td>\n",
              "      <td>38</td>\n",
              "      <td>668</td>\n",
              "      <td>92</td>\n",
              "      <td>101</td>\n",
              "      <td>1</td>\n",
              "    </tr>\n",
              "    <tr>\n",
              "      <th>2</th>\n",
              "      <td>2523</td>\n",
              "      <td>0</td>\n",
              "      <td>0</td>\n",
              "      <td>0</td>\n",
              "      <td>0</td>\n",
              "      <td>0</td>\n",
              "      <td>40</td>\n",
              "      <td>5076</td>\n",
              "      <td>1</td>\n",
              "      <td>0</td>\n",
              "      <td>...</td>\n",
              "      <td>3</td>\n",
              "      <td>9</td>\n",
              "      <td>51</td>\n",
              "      <td>90</td>\n",
              "      <td>293</td>\n",
              "      <td>57</td>\n",
              "      <td>639</td>\n",
              "      <td>82</td>\n",
              "      <td>101</td>\n",
              "      <td>1</td>\n",
              "    </tr>\n",
              "    <tr>\n",
              "      <th>3</th>\n",
              "      <td>2523</td>\n",
              "      <td>0</td>\n",
              "      <td>0</td>\n",
              "      <td>0</td>\n",
              "      <td>0</td>\n",
              "      <td>0</td>\n",
              "      <td>40</td>\n",
              "      <td>19869</td>\n",
              "      <td>1</td>\n",
              "      <td>0</td>\n",
              "      <td>...</td>\n",
              "      <td>3</td>\n",
              "      <td>8</td>\n",
              "      <td>24</td>\n",
              "      <td>90</td>\n",
              "      <td>283</td>\n",
              "      <td>67</td>\n",
              "      <td>617</td>\n",
              "      <td>92</td>\n",
              "      <td>101</td>\n",
              "      <td>1</td>\n",
              "    </tr>\n",
              "    <tr>\n",
              "      <th>4</th>\n",
              "      <td>2523</td>\n",
              "      <td>0</td>\n",
              "      <td>0</td>\n",
              "      <td>0</td>\n",
              "      <td>0</td>\n",
              "      <td>0</td>\n",
              "      <td>40</td>\n",
              "      <td>23703</td>\n",
              "      <td>1</td>\n",
              "      <td>0</td>\n",
              "      <td>...</td>\n",
              "      <td>10</td>\n",
              "      <td>5</td>\n",
              "      <td>28</td>\n",
              "      <td>130</td>\n",
              "      <td>83</td>\n",
              "      <td>393</td>\n",
              "      <td>179</td>\n",
              "      <td>102</td>\n",
              "      <td>52</td>\n",
              "      <td>0</td>\n",
              "    </tr>\n",
              "    <tr>\n",
              "      <th>...</th>\n",
              "      <td>...</td>\n",
              "      <td>...</td>\n",
              "      <td>...</td>\n",
              "      <td>...</td>\n",
              "      <td>...</td>\n",
              "      <td>...</td>\n",
              "      <td>...</td>\n",
              "      <td>...</td>\n",
              "      <td>...</td>\n",
              "      <td>...</td>\n",
              "      <td>...</td>\n",
              "      <td>...</td>\n",
              "      <td>...</td>\n",
              "      <td>...</td>\n",
              "      <td>...</td>\n",
              "      <td>...</td>\n",
              "      <td>...</td>\n",
              "      <td>...</td>\n",
              "      <td>...</td>\n",
              "      <td>...</td>\n",
              "      <td>...</td>\n",
              "    </tr>\n",
              "    <tr>\n",
              "      <th>29995</th>\n",
              "      <td>1965</td>\n",
              "      <td>3620</td>\n",
              "      <td>3335</td>\n",
              "      <td>3552</td>\n",
              "      <td>2914</td>\n",
              "      <td>0</td>\n",
              "      <td>40</td>\n",
              "      <td>6386</td>\n",
              "      <td>1</td>\n",
              "      <td>0</td>\n",
              "      <td>...</td>\n",
              "      <td>52</td>\n",
              "      <td>57</td>\n",
              "      <td>144</td>\n",
              "      <td>396</td>\n",
              "      <td>165</td>\n",
              "      <td>491</td>\n",
              "      <td>212</td>\n",
              "      <td>263</td>\n",
              "      <td>111</td>\n",
              "      <td>1</td>\n",
              "    </tr>\n",
              "    <tr>\n",
              "      <th>29996</th>\n",
              "      <td>1965</td>\n",
              "      <td>3620</td>\n",
              "      <td>3335</td>\n",
              "      <td>3552</td>\n",
              "      <td>2914</td>\n",
              "      <td>0</td>\n",
              "      <td>40</td>\n",
              "      <td>7708</td>\n",
              "      <td>1</td>\n",
              "      <td>0</td>\n",
              "      <td>...</td>\n",
              "      <td>55</td>\n",
              "      <td>62</td>\n",
              "      <td>150</td>\n",
              "      <td>366</td>\n",
              "      <td>153</td>\n",
              "      <td>473</td>\n",
              "      <td>206</td>\n",
              "      <td>225</td>\n",
              "      <td>111</td>\n",
              "      <td>1</td>\n",
              "    </tr>\n",
              "    <tr>\n",
              "      <th>29997</th>\n",
              "      <td>1965</td>\n",
              "      <td>3620</td>\n",
              "      <td>3335</td>\n",
              "      <td>3552</td>\n",
              "      <td>2914</td>\n",
              "      <td>0</td>\n",
              "      <td>40</td>\n",
              "      <td>9815</td>\n",
              "      <td>1</td>\n",
              "      <td>0</td>\n",
              "      <td>...</td>\n",
              "      <td>57</td>\n",
              "      <td>63</td>\n",
              "      <td>154</td>\n",
              "      <td>396</td>\n",
              "      <td>158</td>\n",
              "      <td>498</td>\n",
              "      <td>203</td>\n",
              "      <td>254</td>\n",
              "      <td>111</td>\n",
              "      <td>1</td>\n",
              "    </tr>\n",
              "    <tr>\n",
              "      <th>29998</th>\n",
              "      <td>1965</td>\n",
              "      <td>3620</td>\n",
              "      <td>3335</td>\n",
              "      <td>3552</td>\n",
              "      <td>2914</td>\n",
              "      <td>0</td>\n",
              "      <td>40</td>\n",
              "      <td>18778</td>\n",
              "      <td>1</td>\n",
              "      <td>0</td>\n",
              "      <td>...</td>\n",
              "      <td>53</td>\n",
              "      <td>61</td>\n",
              "      <td>149</td>\n",
              "      <td>396</td>\n",
              "      <td>170</td>\n",
              "      <td>486</td>\n",
              "      <td>219</td>\n",
              "      <td>235</td>\n",
              "      <td>111</td>\n",
              "      <td>1</td>\n",
              "    </tr>\n",
              "    <tr>\n",
              "      <th>29999</th>\n",
              "      <td>1965</td>\n",
              "      <td>3620</td>\n",
              "      <td>3335</td>\n",
              "      <td>3552</td>\n",
              "      <td>2914</td>\n",
              "      <td>0</td>\n",
              "      <td>40</td>\n",
              "      <td>23048</td>\n",
              "      <td>1</td>\n",
              "      <td>0</td>\n",
              "      <td>...</td>\n",
              "      <td>55</td>\n",
              "      <td>60</td>\n",
              "      <td>141</td>\n",
              "      <td>366</td>\n",
              "      <td>181</td>\n",
              "      <td>445</td>\n",
              "      <td>243</td>\n",
              "      <td>188</td>\n",
              "      <td>111</td>\n",
              "      <td>1</td>\n",
              "    </tr>\n",
              "  </tbody>\n",
              "</table>\n",
              "<p>30000 rows × 23 columns</p>\n",
              "</div>\n",
              "      <button class=\"colab-df-convert\" onclick=\"convertToInteractive('df-b18422ca-f208-46a4-a60f-455003674566')\"\n",
              "              title=\"Convert this dataframe to an interactive table.\"\n",
              "              style=\"display:none;\">\n",
              "        \n",
              "  <svg xmlns=\"http://www.w3.org/2000/svg\" height=\"24px\"viewBox=\"0 0 24 24\"\n",
              "       width=\"24px\">\n",
              "    <path d=\"M0 0h24v24H0V0z\" fill=\"none\"/>\n",
              "    <path d=\"M18.56 5.44l.94 2.06.94-2.06 2.06-.94-2.06-.94-.94-2.06-.94 2.06-2.06.94zm-11 1L8.5 8.5l.94-2.06 2.06-.94-2.06-.94L8.5 2.5l-.94 2.06-2.06.94zm10 10l.94 2.06.94-2.06 2.06-.94-2.06-.94-.94-2.06-.94 2.06-2.06.94z\"/><path d=\"M17.41 7.96l-1.37-1.37c-.4-.4-.92-.59-1.43-.59-.52 0-1.04.2-1.43.59L10.3 9.45l-7.72 7.72c-.78.78-.78 2.05 0 2.83L4 21.41c.39.39.9.59 1.41.59.51 0 1.02-.2 1.41-.59l7.78-7.78 2.81-2.81c.8-.78.8-2.07 0-2.86zM5.41 20L4 18.59l7.72-7.72 1.47 1.35L5.41 20z\"/>\n",
              "  </svg>\n",
              "      </button>\n",
              "      \n",
              "  <style>\n",
              "    .colab-df-container {\n",
              "      display:flex;\n",
              "      flex-wrap:wrap;\n",
              "      gap: 12px;\n",
              "    }\n",
              "\n",
              "    .colab-df-convert {\n",
              "      background-color: #E8F0FE;\n",
              "      border: none;\n",
              "      border-radius: 50%;\n",
              "      cursor: pointer;\n",
              "      display: none;\n",
              "      fill: #1967D2;\n",
              "      height: 32px;\n",
              "      padding: 0 0 0 0;\n",
              "      width: 32px;\n",
              "    }\n",
              "\n",
              "    .colab-df-convert:hover {\n",
              "      background-color: #E2EBFA;\n",
              "      box-shadow: 0px 1px 2px rgba(60, 64, 67, 0.3), 0px 1px 3px 1px rgba(60, 64, 67, 0.15);\n",
              "      fill: #174EA6;\n",
              "    }\n",
              "\n",
              "    [theme=dark] .colab-df-convert {\n",
              "      background-color: #3B4455;\n",
              "      fill: #D2E3FC;\n",
              "    }\n",
              "\n",
              "    [theme=dark] .colab-df-convert:hover {\n",
              "      background-color: #434B5C;\n",
              "      box-shadow: 0px 1px 3px 1px rgba(0, 0, 0, 0.15);\n",
              "      filter: drop-shadow(0px 1px 2px rgba(0, 0, 0, 0.3));\n",
              "      fill: #FFFFFF;\n",
              "    }\n",
              "  </style>\n",
              "\n",
              "      <script>\n",
              "        const buttonEl =\n",
              "          document.querySelector('#df-b18422ca-f208-46a4-a60f-455003674566 button.colab-df-convert');\n",
              "        buttonEl.style.display =\n",
              "          google.colab.kernel.accessAllowed ? 'block' : 'none';\n",
              "\n",
              "        async function convertToInteractive(key) {\n",
              "          const element = document.querySelector('#df-b18422ca-f208-46a4-a60f-455003674566');\n",
              "          const dataTable =\n",
              "            await google.colab.kernel.invokeFunction('convertToInteractive',\n",
              "                                                     [key], {});\n",
              "          if (!dataTable) return;\n",
              "\n",
              "          const docLinkHtml = 'Like what you see? Visit the ' +\n",
              "            '<a target=\"_blank\" href=https://colab.research.google.com/notebooks/data_table.ipynb>data table notebook</a>'\n",
              "            + ' to learn more about interactive tables.';\n",
              "          element.innerHTML = '';\n",
              "          dataTable['output_type'] = 'display_data';\n",
              "          await google.colab.output.renderOutput(dataTable, element);\n",
              "          const docLink = document.createElement('div');\n",
              "          docLink.innerHTML = docLinkHtml;\n",
              "          element.appendChild(docLink);\n",
              "        }\n",
              "      </script>\n",
              "    </div>\n",
              "  </div>\n",
              "  "
            ]
          },
          "metadata": {},
          "execution_count": 15
        }
      ]
    },
    {
      "cell_type": "code",
      "source": [
        "# df=np.array(df)"
      ],
      "metadata": {
        "id": "T3p7-0XIhRLS"
      },
      "execution_count": null,
      "outputs": []
    },
    {
      "cell_type": "code",
      "source": [
        "X = df[['Species1_BirdLife', 'Species2_eBird', 'Species3_BirdTree', \n",
        "        'Specimen.number', 'Sex', 'Age', 'Country_WRI', 'Beak.Length_Culmen',\n",
        "       'Beak.Length_Nares', 'Beak.Width', 'Beak.Depth', 'Tarsus.Length',\n",
        "       'Wing.Length', 'Kipps.Distance', 'Hand-wing.Index', \n",
        "        'Tail.Length', 'Protocol']]\n",
        "y = df[['eBird.species.group']]"
      ],
      "metadata": {
        "id": "S8EnQBd8du4U"
      },
      "execution_count": null,
      "outputs": []
    },
    {
      "cell_type": "code",
      "source": [],
      "metadata": {
        "id": "yE0Rl3OBDM9p"
      },
      "execution_count": null,
      "outputs": []
    },
    {
      "cell_type": "code",
      "source": [
        "# from sklearn.preprocessing import StandardScaler\n",
        "# sc = StandardScaler()\n",
        "# X = sc.fit_transform(X)\n",
        "# y  = sc.fit_transform(y)"
      ],
      "metadata": {
        "id": "K8BwcdxpqbON"
      },
      "execution_count": null,
      "outputs": []
    },
    {
      "cell_type": "code",
      "source": [
        "from sklearn.model_selection import train_test_split\n",
        "X_train,X_test,y_train,y_test = train_test_split(X,y,test_size=0.10,random_state=0)"
      ],
      "metadata": {
        "id": "JAYo93hEdaI1"
      },
      "execution_count": null,
      "outputs": []
    },
    {
      "cell_type": "markdown",
      "source": [
        "## RANDOM FOREST CLASSIFIER\n"
      ],
      "metadata": {
        "id": "DUb9RAg9omT8"
      }
    },
    {
      "cell_type": "code",
      "source": [
        "from sklearn.ensemble import RandomForestClassifier  \n",
        "rfc= RandomForestClassifier(n_estimators= 5, criterion=\"entropy\", bootstrap=True, oob_score=True)  \n",
        "rfc.fit(X_train, y_train)  "
      ],
      "metadata": {
        "id": "Ducw7QYxxzSp",
        "colab": {
          "base_uri": "https://localhost:8080/"
        },
        "outputId": "13bde924-e6a0-4ff1-8754-de50a935635a"
      },
      "execution_count": null,
      "outputs": [
        {
          "output_type": "stream",
          "name": "stderr",
          "text": [
            "/usr/local/lib/python3.7/dist-packages/ipykernel_launcher.py:3: DataConversionWarning: A column-vector y was passed when a 1d array was expected. Please change the shape of y to (n_samples,), for example using ravel().\n",
            "  This is separate from the ipykernel package so we can avoid doing imports until\n",
            "/usr/local/lib/python3.7/dist-packages/sklearn/ensemble/_forest.py:564: UserWarning: Some inputs do not have OOB scores. This probably means too few trees were used to compute any reliable OOB estimates.\n",
            "  UserWarning,\n"
          ]
        },
        {
          "output_type": "execute_result",
          "data": {
            "text/plain": [
              "RandomForestClassifier(criterion='entropy', n_estimators=5, oob_score=True)"
            ]
          },
          "metadata": {},
          "execution_count": 20
        }
      ]
    },
    {
      "cell_type": "code",
      "source": [
        "y_pred_rfc = rfc.predict(X_test)  "
      ],
      "metadata": {
        "id": "mNZAIXXFKgz1"
      },
      "execution_count": null,
      "outputs": []
    },
    {
      "cell_type": "code",
      "source": [
        "print(\"Accuracy:\",metrics.accuracy_score(y_test,y_pred_rfc))"
      ],
      "metadata": {
        "colab": {
          "base_uri": "https://localhost:8080/"
        },
        "id": "LsPcPgsbKjZ0",
        "outputId": "456ab8c7-6702-4dab-e22e-4f04008ec6c0"
      },
      "execution_count": null,
      "outputs": [
        {
          "output_type": "stream",
          "name": "stdout",
          "text": [
            "Accuracy: 0.8403333333333334\n"
          ]
        }
      ]
    },
    {
      "cell_type": "markdown",
      "source": [
        "## DECISION TREE CLASSIFIER\n",
        "\n",
        "---\n",
        "\n"
      ],
      "metadata": {
        "id": "b05dbxEgoszi"
      }
    },
    {
      "cell_type": "code",
      "source": [
        "from sklearn.tree import DecisionTreeClassifier\n",
        "dtc = DecisionTreeClassifier(random_state=1234)\n",
        "dtc = dtc.fit(X_train,y_train)\n",
        "y_pred_dtc = dtc.predict(X_test)\n",
        "#y_pred"
      ],
      "metadata": {
        "id": "xRmds4i1K5Hw"
      },
      "execution_count": null,
      "outputs": []
    },
    {
      "cell_type": "code",
      "source": [
        "print(\"Accuracy:\",metrics.accuracy_score(y_test,y_pred_dtc))"
      ],
      "metadata": {
        "colab": {
          "base_uri": "https://localhost:8080/"
        },
        "id": "5CPvQ4LeLXF5",
        "outputId": "bebd4e74-36cc-46ec-e1b4-f8d7d51cc7ba"
      },
      "execution_count": null,
      "outputs": [
        {
          "output_type": "stream",
          "name": "stdout",
          "text": [
            "Accuracy: 0.893\n"
          ]
        }
      ]
    },
    {
      "cell_type": "code",
      "source": [
        "df[['eBird.species.group']].value_counts()"
      ],
      "metadata": {
        "colab": {
          "base_uri": "https://localhost:8080/"
        },
        "id": "V3kURmZaNcXx",
        "outputId": "11ecedd3-51b1-44f9-b4fc-c52ef6d1af3a"
      },
      "execution_count": null,
      "outputs": [
        {
          "output_type": "execute_result",
          "data": {
            "text/plain": [
              "eBird.species.group\n",
              "2929                   373\n",
              "2210                   338\n",
              "333                    321\n",
              "1171                   219\n",
              "1887                   177\n",
              "                      ... \n",
              "1601                     1\n",
              "2233                     1\n",
              "1011                     1\n",
              "1594                     1\n",
              "3004                     1\n",
              "Length: 3670, dtype: int64"
            ]
          },
          "metadata": {},
          "execution_count": 25
        }
      ]
    },
    {
      "cell_type": "markdown",
      "source": [
        "# HYPERPARAMETER TUNUNG\n"
      ],
      "metadata": {
        "id": "vQWItx9fnhHh"
      }
    },
    {
      "cell_type": "code",
      "source": [
        "#Cross-validation\n",
        "from sklearn.model_selection import RepeatedStratifiedKFold\n",
        "from sklearn.model_selection import RandomizedSearchCV\n",
        "from sklearn.model_selection import GridSearchCV"
      ],
      "metadata": {
        "id": "TDxQIgN3n-tX"
      },
      "execution_count": null,
      "outputs": []
    },
    {
      "cell_type": "code",
      "source": [
        "cv = RepeatedStratifiedKFold(n_splits = 3,n_repeats = 2,random_state = 25)\n",
        "cv"
      ],
      "metadata": {
        "id": "gM_Kq0n0_Cyr",
        "colab": {
          "base_uri": "https://localhost:8080/"
        },
        "outputId": "f95f33c1-a2fa-4087-e74d-565467abfeb3"
      },
      "execution_count": null,
      "outputs": [
        {
          "output_type": "execute_result",
          "data": {
            "text/plain": [
              "RepeatedStratifiedKFold(n_repeats=2, n_splits=3, random_state=25)"
            ]
          },
          "metadata": {},
          "execution_count": 27
        }
      ]
    },
    {
      "cell_type": "code",
      "source": [
        "space = dict(\n",
        "    criterion = ['gini', 'entropy'],\n",
        "    max_features = [12,17]\n",
        "    )           \n",
        "\n",
        "\n",
        "    # max_depth = [2,4,6,8,10,12],\n",
        "    # ccp_alpha = [0.015,0.1],"
      ],
      "metadata": {
        "id": "yB9S1umynnNU"
      },
      "execution_count": null,
      "outputs": []
    },
    {
      "cell_type": "code",
      "source": [
        "dtc.get_params().keys()"
      ],
      "metadata": {
        "colab": {
          "base_uri": "https://localhost:8080/"
        },
        "id": "dkl_tluzpEc5",
        "outputId": "d49bc8ff-3297-445c-e7b0-7ce75899ed79"
      },
      "execution_count": null,
      "outputs": [
        {
          "output_type": "execute_result",
          "data": {
            "text/plain": [
              "dict_keys(['ccp_alpha', 'class_weight', 'criterion', 'max_depth', 'max_features', 'max_leaf_nodes', 'min_impurity_decrease', 'min_samples_leaf', 'min_samples_split', 'min_weight_fraction_leaf', 'random_state', 'splitter'])"
            ]
          },
          "metadata": {},
          "execution_count": 29
        }
      ]
    },
    {
      "cell_type": "code",
      "source": [
        "#Grid search\n",
        "#No random state exists\n",
        "gsearch = GridSearchCV(dtc,space,scoring='accuracy',n_jobs=-1,cv=cv)\n",
        "gsearch"
      ],
      "metadata": {
        "colab": {
          "base_uri": "https://localhost:8080/"
        },
        "id": "qNaeknmEnnKm",
        "outputId": "446010f8-88a3-442d-97f4-67a9f8f5056d"
      },
      "execution_count": null,
      "outputs": [
        {
          "output_type": "execute_result",
          "data": {
            "text/plain": [
              "GridSearchCV(cv=RepeatedStratifiedKFold(n_repeats=2, n_splits=3, random_state=25),\n",
              "             estimator=DecisionTreeClassifier(random_state=1234), n_jobs=-1,\n",
              "             param_grid={'criterion': ['gini', 'entropy'],\n",
              "                         'max_features': [12, 17]},\n",
              "             scoring='accuracy')"
            ]
          },
          "metadata": {},
          "execution_count": 30
        }
      ]
    },
    {
      "cell_type": "code",
      "source": [
        "gresult = gsearch.fit(X,y)"
      ],
      "metadata": {
        "id": "MtUkD7pTnnHr",
        "colab": {
          "base_uri": "https://localhost:8080/"
        },
        "outputId": "eea42a7d-336b-450a-c830-6343fb6a60e3"
      },
      "execution_count": null,
      "outputs": [
        {
          "output_type": "stream",
          "name": "stderr",
          "text": [
            "/usr/local/lib/python3.7/dist-packages/sklearn/model_selection/_split.py:680: UserWarning: The least populated class in y has only 1 members, which is less than n_splits=3.\n",
            "  UserWarning,\n",
            "/usr/local/lib/python3.7/dist-packages/sklearn/model_selection/_split.py:680: UserWarning: The least populated class in y has only 1 members, which is less than n_splits=3.\n",
            "  UserWarning,\n"
          ]
        }
      ]
    },
    {
      "cell_type": "code",
      "source": [
        "#Grid search result\n",
        "print('Best Score: %s' % gresult.best_score_)\n",
        "print('Best Hyperparameters: %s' % gresult.best_params_)"
      ],
      "metadata": {
        "colab": {
          "base_uri": "https://localhost:8080/"
        },
        "id": "3iXySqapnnEn",
        "outputId": "f811b9f5-fdbf-451a-fa8b-e9ddc0e1f5c3"
      },
      "execution_count": null,
      "outputs": [
        {
          "output_type": "stream",
          "name": "stdout",
          "text": [
            "Best Score: 0.9276666666666666\n",
            "Best Hyperparameters: {'criterion': 'entropy', 'max_features': 17}\n"
          ]
        }
      ]
    },
    {
      "cell_type": "code",
      "source": [
        "#Grid search result\n",
        "print('Accuracy after performing Tuning: %s' % gresult.best_score_)\n",
        "print('Best Hyperparameters: %s' % gresult.best_params_)"
      ],
      "metadata": {
        "id": "pZJ5Ys64t-Pz",
        "colab": {
          "base_uri": "https://localhost:8080/"
        },
        "outputId": "9598b2fa-b8b3-43c9-df01-c468dc47039c"
      },
      "execution_count": null,
      "outputs": [
        {
          "output_type": "stream",
          "name": "stdout",
          "text": [
            "Accuracy after performing Tuning: 0.9276666666666666\n",
            "Best Hyperparameters: {'criterion': 'entropy', 'max_features': 17}\n"
          ]
        }
      ]
    },
    {
      "cell_type": "code",
      "source": [
        "dtc_2 = DecisionTreeClassifier(criterion=\"entropy\",max_features=17)\n",
        "classifier = dtc_2.fit(X_train,y_train)\n",
        "y_pred_dtc = classifier.predict(X_test)"
      ],
      "metadata": {
        "id": "0kG8QvTUeKx7"
      },
      "execution_count": null,
      "outputs": []
    },
    {
      "cell_type": "code",
      "source": [
        "from sklearn.metrics import accuracy_score\n",
        "acc_class=accuracy_score(y_test,y_pred_dtc)\n",
        "print(\"accuracy after tuning and fitting :\",acc_class) "
      ],
      "metadata": {
        "colab": {
          "base_uri": "https://localhost:8080/"
        },
        "id": "BvU7_09MfULe",
        "outputId": "a9642a53-d009-46cf-bfcb-2dca528ee69d"
      },
      "execution_count": null,
      "outputs": [
        {
          "output_type": "stream",
          "name": "stdout",
          "text": [
            "accuracy after tuning and fitting : 0.9343333333333333\n"
          ]
        }
      ]
    },
    {
      "cell_type": "code",
      "source": [
        "array_predict=classifier.predict(X_test[2000:2005])\n",
        "print(\"prediction works successfully\",array_predict)"
      ],
      "metadata": {
        "colab": {
          "base_uri": "https://localhost:8080/"
        },
        "id": "6M71k10Vkm4V",
        "outputId": "dc89898c-60ad-4eb3-938c-b32166ed18d1"
      },
      "execution_count": null,
      "outputs": [
        {
          "output_type": "stream",
          "name": "stdout",
          "text": [
            "prediction works successfully [2192 3149 3429  354  734]\n"
          ]
        }
      ]
    },
    {
      "cell_type": "code",
      "source": [
        "classifier.predict(X_test[2:3])"
      ],
      "metadata": {
        "colab": {
          "base_uri": "https://localhost:8080/"
        },
        "id": "sVCLKhamlioc",
        "outputId": "20283706-6ded-43ec-da7c-a51a43972e54"
      },
      "execution_count": null,
      "outputs": [
        {
          "output_type": "execute_result",
          "data": {
            "text/plain": [
              "array([1169])"
            ]
          },
          "metadata": {},
          "execution_count": 37
        }
      ]
    },
    {
      "cell_type": "code",
      "source": [
        "y_pred_dtc"
      ],
      "metadata": {
        "colab": {
          "base_uri": "https://localhost:8080/"
        },
        "id": "2Qw2riEwlrNz",
        "outputId": "42fd0d65-2571-4024-aafc-03b7f2136b10"
      },
      "execution_count": null,
      "outputs": [
        {
          "output_type": "execute_result",
          "data": {
            "text/plain": [
              "array([1061, 1385, 1169, ..., 2386, 1792, 2943])"
            ]
          },
          "metadata": {},
          "execution_count": 38
        }
      ]
    },
    {
      "cell_type": "code",
      "source": [
        "import pickle"
      ],
      "metadata": {
        "id": "YG_51m3imccH"
      },
      "execution_count": null,
      "outputs": []
    },
    {
      "cell_type": "code",
      "source": [
        "filename = 'finalized_bird_model.sav'\n",
        "pickle.dump(classifier, open(filename, 'wb'))"
      ],
      "metadata": {
        "id": "xmZ7fVOopRm8"
      },
      "execution_count": null,
      "outputs": []
    },
    {
      "cell_type": "code",
      "source": [
        "import tensorflow\n",
        "from tensorflow.keras import models"
      ],
      "metadata": {
        "id": "HYzbQqfQqNBZ"
      },
      "execution_count": null,
      "outputs": []
    },
    {
      "cell_type": "code",
      "source": [
        "model=classifier\n",
        "models.save_model(model,'/content/drive/MyDrive/birds_project/')"
      ],
      "metadata": {
        "colab": {
          "base_uri": "https://localhost:8080/",
          "height": 338
        },
        "id": "WWqvTYlgrJvg",
        "outputId": "b43dc56f-42cf-48a2-ffcf-c0652cbfc961"
      },
      "execution_count": null,
      "outputs": [
        {
          "output_type": "error",
          "ename": "AttributeError",
          "evalue": "ignored",
          "traceback": [
            "\u001b[0;31m---------------------------------------------------------------------------\u001b[0m",
            "\u001b[0;31mAttributeError\u001b[0m                            Traceback (most recent call last)",
            "\u001b[0;32m<ipython-input-73-9eaa34f2ec81>\u001b[0m in \u001b[0;36m<module>\u001b[0;34m\u001b[0m\n\u001b[1;32m      1\u001b[0m \u001b[0mmodel\u001b[0m\u001b[0;34m=\u001b[0m\u001b[0mclassifier\u001b[0m\u001b[0;34m\u001b[0m\u001b[0;34m\u001b[0m\u001b[0m\n\u001b[0;32m----> 2\u001b[0;31m \u001b[0mmodels\u001b[0m\u001b[0;34m.\u001b[0m\u001b[0msave_model\u001b[0m\u001b[0;34m(\u001b[0m\u001b[0mmodel\u001b[0m\u001b[0;34m,\u001b[0m\u001b[0;34m'/content/drive/MyDrive/birds_project/'\u001b[0m\u001b[0;34m)\u001b[0m\u001b[0;34m\u001b[0m\u001b[0;34m\u001b[0m\u001b[0m\n\u001b[0m",
            "\u001b[0;32m/usr/local/lib/python3.7/dist-packages/keras/utils/traceback_utils.py\u001b[0m in \u001b[0;36merror_handler\u001b[0;34m(*args, **kwargs)\u001b[0m\n\u001b[1;32m     65\u001b[0m     \u001b[0;32mexcept\u001b[0m \u001b[0mException\u001b[0m \u001b[0;32mas\u001b[0m \u001b[0me\u001b[0m\u001b[0;34m:\u001b[0m  \u001b[0;31m# pylint: disable=broad-except\u001b[0m\u001b[0;34m\u001b[0m\u001b[0;34m\u001b[0m\u001b[0m\n\u001b[1;32m     66\u001b[0m       \u001b[0mfiltered_tb\u001b[0m \u001b[0;34m=\u001b[0m \u001b[0m_process_traceback_frames\u001b[0m\u001b[0;34m(\u001b[0m\u001b[0me\u001b[0m\u001b[0;34m.\u001b[0m\u001b[0m__traceback__\u001b[0m\u001b[0;34m)\u001b[0m\u001b[0;34m\u001b[0m\u001b[0;34m\u001b[0m\u001b[0m\n\u001b[0;32m---> 67\u001b[0;31m       \u001b[0;32mraise\u001b[0m \u001b[0me\u001b[0m\u001b[0;34m.\u001b[0m\u001b[0mwith_traceback\u001b[0m\u001b[0;34m(\u001b[0m\u001b[0mfiltered_tb\u001b[0m\u001b[0;34m)\u001b[0m \u001b[0;32mfrom\u001b[0m \u001b[0;32mNone\u001b[0m\u001b[0;34m\u001b[0m\u001b[0;34m\u001b[0m\u001b[0m\n\u001b[0m\u001b[1;32m     68\u001b[0m     \u001b[0;32mfinally\u001b[0m\u001b[0;34m:\u001b[0m\u001b[0;34m\u001b[0m\u001b[0;34m\u001b[0m\u001b[0m\n\u001b[1;32m     69\u001b[0m       \u001b[0;32mdel\u001b[0m \u001b[0mfiltered_tb\u001b[0m\u001b[0;34m\u001b[0m\u001b[0;34m\u001b[0m\u001b[0m\n",
            "\u001b[0;32m/usr/local/lib/python3.7/dist-packages/keras/saving/saving_utils.py\u001b[0m in \u001b[0;36mtry_build_compiled_arguments\u001b[0;34m(model)\u001b[0m\n\u001b[1;32m    319\u001b[0m \u001b[0;32mdef\u001b[0m \u001b[0mtry_build_compiled_arguments\u001b[0m\u001b[0;34m(\u001b[0m\u001b[0mmodel\u001b[0m\u001b[0;34m)\u001b[0m\u001b[0;34m:\u001b[0m\u001b[0;34m\u001b[0m\u001b[0;34m\u001b[0m\u001b[0m\n\u001b[1;32m    320\u001b[0m   if (not version_utils.is_v1_layer_or_model(model) and\n\u001b[0;32m--> 321\u001b[0;31m       model.outputs is not None):\n\u001b[0m\u001b[1;32m    322\u001b[0m     \u001b[0;32mtry\u001b[0m\u001b[0;34m:\u001b[0m\u001b[0;34m\u001b[0m\u001b[0;34m\u001b[0m\u001b[0m\n\u001b[1;32m    323\u001b[0m       \u001b[0;32mif\u001b[0m \u001b[0;32mnot\u001b[0m \u001b[0mmodel\u001b[0m\u001b[0;34m.\u001b[0m\u001b[0mcompiled_loss\u001b[0m\u001b[0;34m.\u001b[0m\u001b[0mbuilt\u001b[0m\u001b[0;34m:\u001b[0m\u001b[0;34m\u001b[0m\u001b[0;34m\u001b[0m\u001b[0m\n",
            "\u001b[0;31mAttributeError\u001b[0m: 'DecisionTreeClassifier' object has no attribute 'outputs'"
          ]
        }
      ]
    },
    {
      "cell_type": "code",
      "source": [
        "classifier.save('/content/drive/MyDrive/birds_project')"
      ],
      "metadata": {
        "colab": {
          "base_uri": "https://localhost:8080/",
          "height": 169
        },
        "id": "LRfDPoxMrhac",
        "outputId": "12aee3e6-b6a5-4a81-bc44-3b27e2d39f96"
      },
      "execution_count": null,
      "outputs": [
        {
          "output_type": "error",
          "ename": "AttributeError",
          "evalue": "ignored",
          "traceback": [
            "\u001b[0;31m---------------------------------------------------------------------------\u001b[0m",
            "\u001b[0;31mAttributeError\u001b[0m                            Traceback (most recent call last)",
            "\u001b[0;32m<ipython-input-45-82a337381ba3>\u001b[0m in \u001b[0;36m<module>\u001b[0;34m\u001b[0m\n\u001b[0;32m----> 1\u001b[0;31m \u001b[0mclassifier\u001b[0m\u001b[0;34m.\u001b[0m\u001b[0msave\u001b[0m\u001b[0;34m(\u001b[0m\u001b[0;34m'/content/drive/MyDrive/birds_project/Model.h5'\u001b[0m\u001b[0;34m)\u001b[0m\u001b[0;34m\u001b[0m\u001b[0;34m\u001b[0m\u001b[0m\n\u001b[0m",
            "\u001b[0;31mAttributeError\u001b[0m: 'DecisionTreeClassifier' object has no attribute 'save'"
          ]
        }
      ]
    }
  ]
}